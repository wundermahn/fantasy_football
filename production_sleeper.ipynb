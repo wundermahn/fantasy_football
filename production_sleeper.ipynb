{
 "cells": [
  {
   "cell_type": "markdown",
   "metadata": {},
   "source": [
    "## Imports"
   ]
  },
  {
   "cell_type": "code",
   "execution_count": 52,
   "metadata": {},
   "outputs": [],
   "source": [
    "# Import Statements\n",
    "\n",
    "# Sleeper wrapper\n",
    "from sleeper_wrapper import League, Stats\n",
    "\n",
    "# Progress Bar\n",
    "from tqdm import tqdm\n",
    "\n",
    "# Misc\n",
    "import requests, pandas as pd, numpy as np, warnings as warnings\n",
    "from sklearn.preprocessing import MinMaxScaler\n",
    "\n",
    "warnings.filterwarnings('ignore')"
   ]
  },
  {
   "cell_type": "markdown",
   "metadata": {},
   "source": [
    "## Globals"
   ]
  },
  {
   "cell_type": "code",
   "execution_count": 2,
   "metadata": {},
   "outputs": [],
   "source": [
    "# Find your league\n",
    "league = League(728718179756519424)\n",
    "\n",
    "# Create look up dictionary for roster IDs\n",
    "lookup_dict = {1: 'Robby', 2: 'Matt', 3: 'Tony', 4: 'Tim', 5: 'Kade', 6: 'BJ', 7: 'Erik', 8: 'Joey', 9: 'Ric', 10: 'Chris'}\n",
    "\n",
    "# Create roster requirements dictionary\n",
    "requirements_dict = {'QB': 1, 'RB': 2, 'WR': 2, 'TE': 1, 'K': 1, 'DEF': 1, 'FLEX': 2}\n",
    "\n",
    "# Which week to run program for\n",
    "week = None"
   ]
  },
  {
   "cell_type": "markdown",
   "metadata": {},
   "source": [
    "## Helper Functions"
   ]
  },
  {
   "cell_type": "code",
   "execution_count": 48,
   "metadata": {},
   "outputs": [],
   "source": [
    "# Function to parse the players json and turn it into a dataframe\n",
    "def parse_players(players_json):\n",
    "    # Create lists for data that we care about\n",
    "    last_names = []\n",
    "    first_names = []\n",
    "    positions = []\n",
    "    ids = []\n",
    "\n",
    "    # Loop through the dictionary\n",
    "    for k,v in tqdm(players_json.items()):\n",
    "        # Create a temp dict\n",
    "        item = players_json[k]\n",
    "        # Save the metadata we carry about\n",
    "        last_names.append(item['last_name'])\n",
    "        first_names.append(item['first_name'])\n",
    "        positions.append(item['position'])\n",
    "        ids.append(item['player_id'])\n",
    "    \n",
    "    # Create a list of full/whole names\n",
    "    names = [\"{} {}\".format(x,y) for x,y in zip(first_names, last_names)]\n",
    "\n",
    "    # Convert to dataframe\n",
    "    res_df = pd.DataFrame({'Name': names, 'First Name': first_names, 'Last Name': last_names, 'Position': positions, 'ID': ids})\n",
    "    \n",
    "    # Return it\n",
    "    return res_df\n",
    "\n",
    "# Get the stats for a list of player IDs\n",
    "def get_stats(players: list, year: int, week: int) -> list:\n",
    "    # Create stats object\n",
    "    stats = Stats()\n",
    "    # Get weekly stats\n",
    "    week_stats = stats.get_week_stats(\"regular\", year, week)\n",
    "    # Return scores for each player\n",
    "    scores = [stats.get_player_week_score(week_stats, player) for player in players]\n",
    "    \n",
    "    return scores    \n",
    "\n",
    "# Function to retrieve data about the league\n",
    "def get_league_data(df, players_df):\n",
    "\n",
    "    # Drop rows where user did not set player\n",
    "    # df.drop(df.loc[df['starters']=='0'].index, inplace=True)\n",
    "    df = df.query(\"starters != '0'\")\n",
    "\n",
    "    winners = []\n",
    "    losers = []\n",
    "    scores = {}\n",
    "    games = {}\n",
    "\n",
    "    # Go throughe ach matchup for the week\n",
    "    for matchup in df['matchup_id'].unique():        \n",
    "        \n",
    "        # Limit the data to just the current matchup\n",
    "        matchup_df = df.loc[df['matchup_id']==matchup]\n",
    "\n",
    "        # Compare the two players in the matchup\n",
    "        a = [matchup_df['roster_id'].unique()[0], matchup_df['points'].unique()[0]]\n",
    "        b = [matchup_df['roster_id'].unique()[1], matchup_df['points'].unique()[1]]\n",
    "\n",
    "        scores[a[0]] = a[1]\n",
    "        scores[b[0]] = b[1]\n",
    "\n",
    "        games[matchup] = a[1]+b[1]\n",
    "\n",
    "        # Format strings\n",
    "        if a[1] > b[1]:\n",
    "            w = \"{} (vs {})\".format(a[0], b[0])\n",
    "            l = \"{} (vs {})\".format(b[0], a[0])\n",
    "            winners.append(w)\n",
    "            losers.append(l)\n",
    "        elif a[1] < b[1]:\n",
    "            w = \"{} (vs {})\".format(b[0], a[0])\n",
    "            l = \"{} (vs {})\".format(a[0], b[0])        \n",
    "            winners.append(w)\n",
    "            losers.append(l)            \n",
    "        else:\n",
    "            w = \"{} tied {}!\".format(a[0], b[0])\n",
    "            l = w\n",
    "            winners.append(w)\n",
    "            losers.append(l)            \n",
    "    \n",
    "    # Find top scorers, games, etc.\n",
    "    top_scorer = max(scores.items(), key = lambda k : k[1])\n",
    "    low_game = list(min(games.items(), key = lambda k : k[1]))\n",
    "    top_game = list(max(games.items(), key = lambda k : k[1]))\n",
    "    top_game[0] = list(df.loc[df['matchup_id']==top_game[0]]['roster_id'].unique())\n",
    "    low_game[0] = list(df.loc[df['matchup_id']==low_game[0]]['roster_id'].unique())\n",
    "\n",
    "    # Add in positions and player names to dataframe\n",
    "    df['Position'] = [players_df.loc[players_df['ID']==id]['Position'].unique()[0] for id in df['starters']]\n",
    "    df['Player Name'] = [players_df.loc[players_df['ID']==id]['Name'].unique()[0] for id in df['starters']]   \n",
    "\n",
    "    # Get the highest scorers by position\n",
    "    highest_df = df[['Position', 'starters_points', 'Player Name', 'roster_id']].sort_values(\"starters_points\", ascending = False).groupby(\"Position\", as_index=False).first()\n",
    "    highest_df.columns = ['Position', 'Points', 'Name', 'Team']\n",
    "\n",
    "    # Return relevant data\n",
    "    return df, \"WINNERS: {}\".format(', '.join(winners)), \"LOSERS: {}\".format(', '.join(losers)), \"Highest Scorer: {}\".format(list(top_scorer)), \\\n",
    "        \"Highest Scoring Game: {}\".format(list(top_game)), \"Lowest Scoring Game (Boo!): {}\".format(list(low_game)), highest_df\n",
    "\n",
    "# Function to compare the points of two teams\n",
    "def compare_points(df, players_df, requirements, year, week):\n",
    "\n",
    "    # Calculate weekly scores for starters\n",
    "    starters = [str(x) for x in df['starters']]\n",
    "    starters_names = [players_df.loc[players_df['ID']==id]['Name'].to_list()[0] for id in starters]\n",
    "    starters_positions = [players_df.loc[players_df['ID']==id]['Position'].to_list()[0] for id in starters]\n",
    "    starters_df = pd.DataFrame({'Player':starters_names, 'Position': starters_positions, 'Score': get_stats(starters, year, week)})\n",
    "    starters_df.fillna(0, inplace=True)\n",
    "    starters_df['Score'] = [x['pts_half_ppr'] if x != 0 else 0 for x in starters_df['Score']]\n",
    "    starters_df.fillna(0, inplace=True)\n",
    "    starters_df['Type'] = 'Starter'\n",
    "\n",
    "    # Get total starter points\n",
    "    starter_points = starters_df['Score'].sum()\n",
    "\n",
    "    # Calculate scores for all roster spots\n",
    "    _all = [x for x in df['players'].to_list()[0]]\n",
    "    all_names = [players_df.loc[players_df['ID']==id]['Name'].to_list()[0] for id in _all]\n",
    "    all_positions = [players_df.loc[players_df['ID']==id]['Position'].to_list()[0] for id in _all]\n",
    "    all_df = pd.DataFrame({'Player':all_names, 'Position': all_positions, 'Score': get_stats(_all, year, week)})\n",
    "    all_df.fillna(0, inplace=True)\n",
    "    all_df['Score'] = [x['pts_half_ppr'] if x != 0 else 0 for x in all_df['Score']]\n",
    "    all_df.fillna(0, inplace=True)\n",
    "\n",
    "    # Organize by top scorers by position\n",
    "    all_points = all_df.sort_values(\"Score\", ascending = False).groupby(\"Position\", as_index=False).head(n=1000)\n",
    "\n",
    "    # Use the requirements dictionary of roster makeup to calculate the optimal roster based on points scored\n",
    "    FLEX = requirements['FLEX']\n",
    "    select_players = lambda x: x.nlargest(requirements[x.name])\n",
    "\n",
    "    idx_best = all_points.groupby('Position')['Score'].apply(select_players).index.levels[1]\n",
    "    idx_flex = all_points.loc[all_points.index.difference(idx_best), 'Score'].nlargest(FLEX).index\n",
    "\n",
    "    # out = all_points.loc[idx_best.union(idx_flex)].sort_values('Score', ascending=False)\n",
    "    max_points = all_points.loc[idx_best.union(idx_flex)].sort_values('Score', ascending=False)['Score'].sum()\n",
    "\n",
    "    # Return a list containing 0 == max possible points, and 1 == points scored\n",
    "    return [float(max_points), float(starter_points)]         \n",
    "\n",
    "# Get weekly matchup data\n",
    "def get_weekly_data(league, week: int, lookup_dict):\n",
    "    # Normalize the returned json string\n",
    "    weekly_df = pd.json_normalize(league.get_matchups(week)).explode(['starters', 'starters_points'])\n",
    "    # Pandas magic\n",
    "    weekly_df = weekly_df[weekly_df.columns.drop(list(weekly_df.filter(regex=\"players_points.\")))]\n",
    "    weekly_df.drop('custom_points', inplace=True, axis=1)\n",
    "    weekly_df['roster_id'] = weekly_df['roster_id'].map(lookup_dict)    \n",
    "\n",
    "    # Return df of weekly matchups\n",
    "    return weekly_df    "
   ]
  },
  {
   "cell_type": "markdown",
   "metadata": {},
   "source": [
    "## Script"
   ]
  },
  {
   "cell_type": "code",
   "execution_count": 4,
   "metadata": {},
   "outputs": [
    {
     "name": "stderr",
     "output_type": "stream",
     "text": [
      "100%|██████████| 8094/8094 [00:00<00:00, 898470.20it/s]\n"
     ]
    }
   ],
   "source": [
    "# Query sleeper API for list of all players\n",
    "result_json_string = requests.get(\"https://api.sleeper.app/v1/players/nfl\");\n",
    "\n",
    "# Try to query\n",
    "try:\n",
    "    result_json_string.raise_for_status()\n",
    "except requests.exceptions.HTTPError as e:\n",
    "    print(e)\n",
    "\n",
    "# Convert to json\n",
    "players_json = result_json_string.json()\n",
    "\n",
    "# Get the players dataframe\n",
    "players_df = parse_players(players_json)"
   ]
  },
  {
   "cell_type": "code",
   "execution_count": 5,
   "metadata": {},
   "outputs": [],
   "source": [
    "# weekly_df = get_weekly_data(league, week, lookup_dict)\n",
    "weekly_df = get_weekly_data(league, 10, lookup_dict)"
   ]
  },
  {
   "cell_type": "code",
   "execution_count": 6,
   "metadata": {},
   "outputs": [
    {
     "name": "stdout",
     "output_type": "stream",
     "text": [
      "\n",
      "\n",
      "WINNERS: WINNERS: Robby (vs Tim), Matt (vs BJ), Tony (vs Chris), Erik (vs Kade), Ric (vs Joey) \n",
      "\n",
      "LOSERS: LOSERS: Tim (vs Robby), BJ (vs Matt), Chris (vs Tony), Kade (vs Erik), Joey (vs Ric) \n",
      "\n",
      "Highest Scorer: Highest Scorer: ['Ric', 126.82] \n",
      "\n",
      "Highest Scoring Game: Highest Scoring Game: [['Joey', 'Ric'], 242.95999999999998] \n",
      "\n",
      "Lowest Scoring Game (Boo!): Lowest Scoring Game (Boo!): [['Robby', 'Tim'], 191.72] \n",
      "\n",
      "Top Scoring Players by Position\n",
      "-------------------------------------\n",
      "  Position  Points             Name   Team\n",
      "0      DEF   24.00   Dallas Cowboys    Tim\n",
      "1        K   12.00    Chris Boswell  Chris\n",
      "2       QB   36.24  Patrick Mahomes   Erik\n",
      "3       RB   25.80        AJ Dillon   Erik\n",
      "4       TE   19.90     Travis Kelce  Robby\n",
      "5       WR   27.80     Deebo Samuel   Matt\n",
      "\n",
      "\n",
      "\n"
     ]
    }
   ],
   "source": [
    "df, winners, losers, scores, high, low, positions = get_league_data(weekly_df, players_df)\n",
    "\n",
    "print_str = \"\"\"\n",
    "\n",
    "WINNERS: {} \\n\n",
    "LOSERS: {} \\n\n",
    "Highest Scorer: {} \\n\n",
    "Highest Scoring Game: {} \\n\n",
    "Lowest Scoring Game (Boo!): {} \\n\n",
    "Top Scoring Players by Position\n",
    "-------------------------------------\n",
    "{}\n",
    "\n",
    "\n",
    "\"\"\".format(winners, losers, scores, high, low, positions)\n",
    "\n",
    "print(print_str)"
   ]
  },
  {
   "cell_type": "code",
   "execution_count": 31,
   "metadata": {},
   "outputs": [],
   "source": [
    "def wrapper(league, week, players_df, requirements, lookup, records):\n",
    "    \n",
    "    points = {}\n",
    "\n",
    "    weekly_data = get_weekly_data(league, week, lookup)\n",
    "    league_df, winners, losers, scores, high, low, positions = get_league_data(weekly_data, players_df)\n",
    "\n",
    "    for team in league_df['roster_id'].unique():\n",
    "        temp = league_df.loc[league_df['roster_id']==team]\n",
    "        res = compare_points(temp, players_df, requirements, 2021, week)\n",
    "        points[team] = res\n",
    "    \n",
    "\n",
    "    # Process against median\n",
    "    median_points = np.median([v[1] for k,v in points.items()])\n",
    "    print(\"Median points for week {} was {}\".format(week, median_points))\n",
    "    for k,v in points.items():\n",
    "        if v[1] > median_points:\n",
    "            records.get(k)[0] += 1\n",
    "        else:\n",
    "            records.get(k)[1] += 1\n",
    "    \n",
    "    \n",
    "\n",
    "    return records"
   ]
  },
  {
   "cell_type": "code",
   "execution_count": 49,
   "metadata": {},
   "outputs": [],
   "source": [
    "records = {\n",
    "    'Tony': [7, 3],\n",
    "    'Robby': [10, 0],\n",
    "    'Matt': [7, 3],\n",
    "    'BJ': [2, 8],\n",
    "    'Chris': [3, 7],\n",
    "    'Tim': [4, 6],\n",
    "    'Kade': [4, 6],\n",
    "    'Joey': [5,5],\n",
    "    'Erik': [6,4],\n",
    "    'Ric': [2,8]\n",
    "}"
   ]
  },
  {
   "cell_type": "code",
   "execution_count": 50,
   "metadata": {},
   "outputs": [
    {
     "name": "stdout",
     "output_type": "stream",
     "text": [
      "Median points for week 1 was 121.96000000000001\n",
      "Median points for week 2 was 123.11000000000001\n",
      "Median points for week 3 was 117.08000000000001\n",
      "Median points for week 4 was 124.13999999999999\n"
     ]
    },
    {
     "name": "stderr",
     "output_type": "stream",
     "text": [
      "C:\\Users\\Kelly\\AppData\\Local\\Temp/ipykernel_23992/3579991185.py:91: SettingWithCopyWarning: \n",
      "A value is trying to be set on a copy of a slice from a DataFrame.\n",
      "Try using .loc[row_indexer,col_indexer] = value instead\n",
      "\n",
      "See the caveats in the documentation: https://pandas.pydata.org/pandas-docs/stable/user_guide/indexing.html#returning-a-view-versus-a-copy\n",
      "  df['Position'] = [players_df.loc[players_df['ID']==id]['Position'].unique()[0] for id in df['starters']]\n",
      "C:\\Users\\Kelly\\AppData\\Local\\Temp/ipykernel_23992/3579991185.py:92: SettingWithCopyWarning: \n",
      "A value is trying to be set on a copy of a slice from a DataFrame.\n",
      "Try using .loc[row_indexer,col_indexer] = value instead\n",
      "\n",
      "See the caveats in the documentation: https://pandas.pydata.org/pandas-docs/stable/user_guide/indexing.html#returning-a-view-versus-a-copy\n",
      "  df['Player Name'] = [players_df.loc[players_df['ID']==id]['Name'].unique()[0] for id in df['starters']]\n"
     ]
    },
    {
     "name": "stdout",
     "output_type": "stream",
     "text": [
      "Median points for week 5 was 132.07\n",
      "Median points for week 6 was 125.55999999999999\n",
      "Median points for week 7 was 122.13999999999999\n",
      "Median points for week 8 was 110.96000000000001\n",
      "Median points for week 9 was 100.22999999999999\n",
      "Median points for week 10 was 111.16999999999999\n"
     ]
    }
   ],
   "source": [
    "for i in range(0,10):\n",
    "    week = i+1\n",
    "    records = wrapper(league, week, players_df, requirements_dict, lookup_dict, records)"
   ]
  },
  {
   "cell_type": "code",
   "execution_count": 51,
   "metadata": {},
   "outputs": [
    {
     "data": {
      "text/plain": [
       "{'Tony': [15, 5],\n",
       " 'Robby': [18, 2],\n",
       " 'Matt': [15, 5],\n",
       " 'BJ': [4, 16],\n",
       " 'Chris': [6, 14],\n",
       " 'Tim': [8, 12],\n",
       " 'Kade': [8, 12],\n",
       " 'Joey': [9, 11],\n",
       " 'Erik': [12, 8],\n",
       " 'Ric': [5, 15]}"
      ]
     },
     "execution_count": 51,
     "metadata": {},
     "output_type": "execute_result"
    }
   ],
   "source": [
    "records"
   ]
  },
  {
   "cell_type": "code",
   "execution_count": 77,
   "metadata": {},
   "outputs": [],
   "source": [
    "def run_sim(runs=1000000):\n",
    "\n",
    "    min_t = 100\n",
    "    max_t = 150\n",
    "\n",
    "    min_b = 98\n",
    "    max_b = 144\n",
    "\n",
    "    mm_t = MinMaxScaler(feature_range=(min_t, max_t))\n",
    "    mm_b = MinMaxScaler(feature_range=(min_b, max_b))\n",
    "\n",
    "    t_wins = 0\n",
    "    b_wins = 0\n",
    "\n",
    "    for _ in tqdm(range(runs)):\n",
    "        res_t = np.random.normal(size=1000)\n",
    "        res_b = np.random.normal(size=1000)\n",
    "\n",
    "        res_t = mm_t.fit_transform(res_t.reshape(-1,1))\n",
    "        res_b = mm_b.fit_transform(res_b.reshape(-1,1))\n",
    "\n",
    "        count_t = 0\n",
    "        count_b = 0\n",
    "\n",
    "        for x,y in zip(res_t, res_b):\n",
    "            if x > y:\n",
    "                count_t += 1\n",
    "            elif x < y:\n",
    "                count_b += 1\n",
    "            else:\n",
    "                continue\n",
    "\n",
    "        if count_t > count_b:\n",
    "            #print(\"T beats B by a score of {} to {}\".format(count_t, count_b))\n",
    "            t_wins += 1\n",
    "        else:\n",
    "            #print(\"T loses to B by a score of {} to {}\".format(count_t, count_b))\n",
    "            b_wins += 1\n",
    "    \n",
    "    print(\"T: {} | B: {}\".format(t_wins, b_wins))\n"
   ]
  },
  {
   "cell_type": "code",
   "execution_count": 78,
   "metadata": {},
   "outputs": [
    {
     "name": "stderr",
     "output_type": "stream",
     "text": [
      " 54%|█████▍    | 541729/1000000 [10:27<08:44, 874.50it/s]"
     ]
    }
   ],
   "source": [
    "run_sim(10000)"
   ]
  },
  {
   "cell_type": "code",
   "execution_count": null,
   "metadata": {},
   "outputs": [],
   "source": []
  }
 ],
 "metadata": {
  "interpreter": {
   "hash": "25958c21a2683e4b4b536503bcc8909a6707c4f35ea1f7f5a813eab845b6334f"
  },
  "kernelspec": {
   "display_name": "Python 3.8.3 64-bit ('_venv': venv)",
   "name": "python3"
  },
  "language_info": {
   "codemirror_mode": {
    "name": "ipython",
    "version": 3
   },
   "file_extension": ".py",
   "mimetype": "text/x-python",
   "name": "python",
   "nbconvert_exporter": "python",
   "pygments_lexer": "ipython3",
   "version": "3.8.3"
  },
  "orig_nbformat": 4
 },
 "nbformat": 4,
 "nbformat_minor": 2
}
