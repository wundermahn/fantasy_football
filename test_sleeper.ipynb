{
 "cells": [
  {
   "cell_type": "code",
   "execution_count": 1,
   "metadata": {},
   "outputs": [],
   "source": [
    "# Import Statements\n",
    "\n",
    "# Sleeper wrapper\n",
    "from sleeper_wrapper import League\n",
    "\n",
    "# Progress Bar\n",
    "from tqdm import tqdm\n",
    "\n",
    "# Misc\n",
    "import requests, pandas as pd"
   ]
  },
  {
   "cell_type": "code",
   "execution_count": 2,
   "metadata": {},
   "outputs": [],
   "source": [
    "# Find your league\n",
    "league = League(728718179756519424)"
   ]
  },
  {
   "cell_type": "code",
   "execution_count": 3,
   "metadata": {},
   "outputs": [],
   "source": [
    "# Query sleeper API for list of all players\n",
    "result_json_string = requests.get(\"https://api.sleeper.app/v1/players/nfl\");\n",
    "\n",
    "# Try to query\n",
    "try:\n",
    "    result_json_string.raise_for_status()\n",
    "except requests.exceptions.HTTPError as e:\n",
    "    print(e)\n",
    "\n",
    "# Convert to json\n",
    "players_json = result_json_string.json()"
   ]
  },
  {
   "cell_type": "code",
   "execution_count": 4,
   "metadata": {},
   "outputs": [],
   "source": [
    "# Function to parse the players json and turn it into a dataframe\n",
    "def parse_players(players_json):\n",
    "    # Create lists for data that we care about\n",
    "    last_names = []\n",
    "    first_names = []\n",
    "    positions = []\n",
    "    ids = []\n",
    "\n",
    "    # Loop through the dictionary\n",
    "    for k,v in tqdm(players_json.items()):\n",
    "        # Create a temp dict\n",
    "        item = players_json[k]\n",
    "        # Save the metadata we carry about\n",
    "        last_names.append(item['last_name'])\n",
    "        first_names.append(item['first_name'])\n",
    "        positions.append(item['position'])\n",
    "        ids.append(item['player_id'])\n",
    "    \n",
    "    # Create a list of full/whole names\n",
    "    names = [\"{} {}\".format(x,y) for x,y in zip(first_names, last_names)]\n",
    "\n",
    "    # Convert to dataframe\n",
    "    res_df = pd.DataFrame({'Name': names, 'First Name': first_names, 'Last Name': last_names, 'Position': positions, 'ID': ids})\n",
    "    \n",
    "    # Return it\n",
    "    return res_df"
   ]
  },
  {
   "cell_type": "code",
   "execution_count": 5,
   "metadata": {},
   "outputs": [
    {
     "name": "stderr",
     "output_type": "stream",
     "text": [
      "100%|██████████| 8094/8094 [00:00<00:00, 867964.53it/s]\n"
     ]
    }
   ],
   "source": [
    "# Get the players dataframe\n",
    "players_df = parse_players(players_json)"
   ]
  },
  {
   "cell_type": "code",
   "execution_count": 8,
   "metadata": {},
   "outputs": [],
   "source": [
    "t = league.get_matchups(10)"
   ]
  },
  {
   "cell_type": "code",
   "execution_count": 7,
   "metadata": {},
   "outputs": [],
   "source": [
    "lookup_dict = {1: 'Robby', 2: 'Matt', 3: 'Tony', 4: 'Tim', 5: 'Kade', 6: 'BJ', 7: 'Erik', 8: 'Joey', 9: 'Ric', 10: 'Chris'}"
   ]
  },
  {
   "cell_type": "code",
   "execution_count": 9,
   "metadata": {},
   "outputs": [],
   "source": [
    "test_df = pd.json_normalize(t).explode(['starters', 'starters_points'])\n",
    "test_df = test_df[test_df.columns.drop(list(test_df.filter(regex=\"players_points.\")))]\n",
    "test_df.drop('custom_points', inplace=True, axis=1)\n",
    "test_df['roster_id'] = test_df['roster_id'].map(lookup_dict)"
   ]
  },
  {
   "cell_type": "code",
   "execution_count": 10,
   "metadata": {},
   "outputs": [
    {
     "data": {
      "text/html": [
       "<div>\n",
       "<style scoped>\n",
       "    .dataframe tbody tr th:only-of-type {\n",
       "        vertical-align: middle;\n",
       "    }\n",
       "\n",
       "    .dataframe tbody tr th {\n",
       "        vertical-align: top;\n",
       "    }\n",
       "\n",
       "    .dataframe thead th {\n",
       "        text-align: right;\n",
       "    }\n",
       "</style>\n",
       "<table border=\"1\" class=\"dataframe\">\n",
       "  <thead>\n",
       "    <tr style=\"text-align: right;\">\n",
       "      <th></th>\n",
       "      <th>starters_points</th>\n",
       "      <th>starters</th>\n",
       "      <th>roster_id</th>\n",
       "      <th>points</th>\n",
       "      <th>players</th>\n",
       "      <th>matchup_id</th>\n",
       "    </tr>\n",
       "  </thead>\n",
       "  <tbody>\n",
       "    <tr>\n",
       "      <th>0</th>\n",
       "      <td>26.34</td>\n",
       "      <td>3294</td>\n",
       "      <td>Robby</td>\n",
       "      <td>110.6</td>\n",
       "      <td>[TEN, NE, 7606, 7564, 7561, 6783, 6770, 6083, ...</td>\n",
       "      <td>5</td>\n",
       "    </tr>\n",
       "    <tr>\n",
       "      <th>0</th>\n",
       "      <td>9.1</td>\n",
       "      <td>7561</td>\n",
       "      <td>Robby</td>\n",
       "      <td>110.6</td>\n",
       "      <td>[TEN, NE, 7606, 7564, 7561, 6783, 6770, 6083, ...</td>\n",
       "      <td>5</td>\n",
       "    </tr>\n",
       "    <tr>\n",
       "      <th>0</th>\n",
       "      <td>18.26</td>\n",
       "      <td>3164</td>\n",
       "      <td>Robby</td>\n",
       "      <td>110.6</td>\n",
       "      <td>[TEN, NE, 7606, 7564, 7561, 6783, 6770, 6083, ...</td>\n",
       "      <td>5</td>\n",
       "    </tr>\n",
       "    <tr>\n",
       "      <th>0</th>\n",
       "      <td>8.8</td>\n",
       "      <td>5937</td>\n",
       "      <td>Robby</td>\n",
       "      <td>110.6</td>\n",
       "      <td>[TEN, NE, 7606, 7564, 7561, 6783, 6770, 6083, ...</td>\n",
       "      <td>5</td>\n",
       "    </tr>\n",
       "    <tr>\n",
       "      <th>0</th>\n",
       "      <td>2.5</td>\n",
       "      <td>1144</td>\n",
       "      <td>Robby</td>\n",
       "      <td>110.6</td>\n",
       "      <td>[TEN, NE, 7606, 7564, 7561, 6783, 6770, 6083, ...</td>\n",
       "      <td>5</td>\n",
       "    </tr>\n",
       "    <tr>\n",
       "      <th>...</th>\n",
       "      <td>...</td>\n",
       "      <td>...</td>\n",
       "      <td>...</td>\n",
       "      <td>...</td>\n",
       "      <td>...</td>\n",
       "      <td>...</td>\n",
       "    </tr>\n",
       "    <tr>\n",
       "      <th>9</th>\n",
       "      <td>18.3</td>\n",
       "      <td>5012</td>\n",
       "      <td>Chris</td>\n",
       "      <td>106.5</td>\n",
       "      <td>[CLE, 6813, 6786, 6151, 5980, 5955, 5892, 5849...</td>\n",
       "      <td>4</td>\n",
       "    </tr>\n",
       "    <tr>\n",
       "      <th>9</th>\n",
       "      <td>4.8</td>\n",
       "      <td>5022</td>\n",
       "      <td>Chris</td>\n",
       "      <td>106.5</td>\n",
       "      <td>[CLE, 6813, 6786, 6151, 5980, 5955, 5892, 5849...</td>\n",
       "      <td>4</td>\n",
       "    </tr>\n",
       "    <tr>\n",
       "      <th>9</th>\n",
       "      <td>0.0</td>\n",
       "      <td>5110</td>\n",
       "      <td>Chris</td>\n",
       "      <td>106.5</td>\n",
       "      <td>[CLE, 6813, 6786, 6151, 5980, 5955, 5892, 5849...</td>\n",
       "      <td>4</td>\n",
       "    </tr>\n",
       "    <tr>\n",
       "      <th>9</th>\n",
       "      <td>12.0</td>\n",
       "      <td>1945</td>\n",
       "      <td>Chris</td>\n",
       "      <td>106.5</td>\n",
       "      <td>[CLE, 6813, 6786, 6151, 5980, 5955, 5892, 5849...</td>\n",
       "      <td>4</td>\n",
       "    </tr>\n",
       "    <tr>\n",
       "      <th>9</th>\n",
       "      <td>-2.0</td>\n",
       "      <td>CLE</td>\n",
       "      <td>Chris</td>\n",
       "      <td>106.5</td>\n",
       "      <td>[CLE, 6813, 6786, 6151, 5980, 5955, 5892, 5849...</td>\n",
       "      <td>4</td>\n",
       "    </tr>\n",
       "  </tbody>\n",
       "</table>\n",
       "<p>100 rows × 6 columns</p>\n",
       "</div>"
      ],
      "text/plain": [
       "   starters_points starters roster_id  points  \\\n",
       "0            26.34     3294     Robby   110.6   \n",
       "0              9.1     7561     Robby   110.6   \n",
       "0            18.26     3164     Robby   110.6   \n",
       "0              8.8     5937     Robby   110.6   \n",
       "0              2.5     1144     Robby   110.6   \n",
       "..             ...      ...       ...     ...   \n",
       "9             18.3     5012     Chris   106.5   \n",
       "9              4.8     5022     Chris   106.5   \n",
       "9              0.0     5110     Chris   106.5   \n",
       "9             12.0     1945     Chris   106.5   \n",
       "9             -2.0      CLE     Chris   106.5   \n",
       "\n",
       "                                              players  matchup_id  \n",
       "0   [TEN, NE, 7606, 7564, 7561, 6783, 6770, 6083, ...           5  \n",
       "0   [TEN, NE, 7606, 7564, 7561, 6783, 6770, 6083, ...           5  \n",
       "0   [TEN, NE, 7606, 7564, 7561, 6783, 6770, 6083, ...           5  \n",
       "0   [TEN, NE, 7606, 7564, 7561, 6783, 6770, 6083, ...           5  \n",
       "0   [TEN, NE, 7606, 7564, 7561, 6783, 6770, 6083, ...           5  \n",
       "..                                                ...         ...  \n",
       "9   [CLE, 6813, 6786, 6151, 5980, 5955, 5892, 5849...           4  \n",
       "9   [CLE, 6813, 6786, 6151, 5980, 5955, 5892, 5849...           4  \n",
       "9   [CLE, 6813, 6786, 6151, 5980, 5955, 5892, 5849...           4  \n",
       "9   [CLE, 6813, 6786, 6151, 5980, 5955, 5892, 5849...           4  \n",
       "9   [CLE, 6813, 6786, 6151, 5980, 5955, 5892, 5849...           4  \n",
       "\n",
       "[100 rows x 6 columns]"
      ]
     },
     "execution_count": 10,
     "metadata": {},
     "output_type": "execute_result"
    }
   ],
   "source": [
    "test_df"
   ]
  },
  {
   "cell_type": "code",
   "execution_count": 18,
   "metadata": {},
   "outputs": [],
   "source": [
    "def get_team_data(df):\n",
    "    winners = []\n",
    "    losers = []\n",
    "    scores = {}\n",
    "    games = {}\n",
    "\n",
    "    for matchup in df['matchup_id'].unique():        \n",
    "        \n",
    "        # Limit the data to just the current matchup\n",
    "        matchup_df = df.loc[df['matchup_id']==matchup]\n",
    "\n",
    "        print(\"-----------\")\n",
    "        print(matchup_df)\n",
    "        print(\"-----------\")\n",
    "\n",
    "        a = [matchup_df['roster_id'].unique()[0], matchup_df['points'].unique(), matchup_df['roster_id'].unique()[0], matchup_df['points'].unique()]\n",
    "        b = [matchup_df['roster_id'].unique()[1], matchup_df['points'].unique(), matchup_df['roster_id'].unique()[1], matchup_df['points'].unique()]\n",
    "        \n",
    "        print(a, b)\n",
    "\n",
    "        # print(matchup_df)\n",
    "        # total_points_df = matchup_df.groupby('roster_id').sum('starters_points').reset_index()\n",
    "        # total_points_df = total_points_df.round(3)\n",
    "        # games[matchup] = total_points_df['starters_points'].sum().round(3)\n",
    "        # scores[total_points_df['roster_id'][0]] = total_points_df['starters_points'][0]\n",
    "        # scores[total_points_df['roster_id'][1]] = total_points_df['starters_points'][1]\n",
    "\n",
    "        # if total_points_df['starters_points'][0] > total_points_df['starters_points'][1]:\n",
    "        #     w = \"{} (vs {})\".format(total_points_df['roster_id'][0], total_points_df['roster_id'][1])\n",
    "        #     l = \"{} (vs {})\".format(total_points_df['roster_id'][1], total_points_df['roster_id'][0])\n",
    "        #     winners.append(w)\n",
    "        #     losers.append(l)\n",
    "        # elif total_points_df['starters_points'][0] < total_points_df['starters_points'][1]:\n",
    "        #     w = \"{} (vs {})\".format(total_points_df['roster_id'][1], total_points_df['roster_id'][0])\n",
    "        #     l = \"{} (vs {})\".format(total_points_df['roster_id'][0], total_points_df['roster_id'][1])\n",
    "        #     winners.append(w)\n",
    "        #     losers.append(l)\n",
    "        # else:\n",
    "        #     w = \"{} tied {}!\".format(total_points_df['roster_id'][0], total_points_df['roster_id'][1])\n",
    "        #     l = w\n",
    "        #     winners.append(w)\n",
    "        #     losers.append(l)\n",
    "    \n",
    "    # top_scorer = max(scores.items(), key = lambda k : k[1])\n",
    "    # low_game = list(min(games.items(), key = lambda k : k[1]))\n",
    "    # top_game = list(max(games.items(), key = lambda k : k[1]))\n",
    "    # top_game[0] = list(matchup_df.loc[matchup_df['matchup_id']==top_game[0]]['roster_id'].unique())\n",
    "    # low_game[0] = list(matchup_df.loc[matchup_df['matchup_id']==low_game[0]]['roster_id'].unique())\n",
    "    # return \"WINNERS: {}\".format(', '.join(winners)), \"LOSERS: {}\".format(', '.join(losers)), list(top_scorer), list(top_game), list(low_game)"
   ]
  },
  {
   "cell_type": "code",
   "execution_count": 19,
   "metadata": {},
   "outputs": [
    {
     "name": "stdout",
     "output_type": "stream",
     "text": [
      "-----------\n",
      "  starters_points starters roster_id  points  \\\n",
      "0           26.34     3294     Robby  110.60   \n",
      "0             9.1     7561     Robby  110.60   \n",
      "0           18.26     3164     Robby  110.60   \n",
      "0             8.8     5937     Robby  110.60   \n",
      "0             2.5     1144     Robby  110.60   \n",
      "0            19.9     1466     Robby  110.60   \n",
      "0             8.6     1339     Robby  110.60   \n",
      "0             7.1     6783     Robby  110.60   \n",
      "0             4.0     6083     Robby  110.60   \n",
      "0             6.0      TEN     Robby  110.60   \n",
      "3           11.82      421       Tim   81.12   \n",
      "3             3.9     5347       Tim   81.12   \n",
      "3            10.6     4199       Tim   81.12   \n",
      "3             2.8     5859       Tim   81.12   \n",
      "3             3.9     5045       Tim   81.12   \n",
      "3             0.0     4993       Tim   81.12   \n",
      "3             8.9     5927       Tim   81.12   \n",
      "3             9.2     4037       Tim   81.12   \n",
      "3             6.0      391       Tim   81.12   \n",
      "3            24.0      DAL       Tim   81.12   \n",
      "\n",
      "                                             players  matchup_id  \n",
      "0  [TEN, NE, 7606, 7564, 7561, 6783, 6770, 6083, ...           5  \n",
      "0  [TEN, NE, 7606, 7564, 7561, 6783, 6770, 6083, ...           5  \n",
      "0  [TEN, NE, 7606, 7564, 7561, 6783, 6770, 6083, ...           5  \n",
      "0  [TEN, NE, 7606, 7564, 7561, 6783, 6770, 6083, ...           5  \n",
      "0  [TEN, NE, 7606, 7564, 7561, 6783, 6770, 6083, ...           5  \n",
      "0  [TEN, NE, 7606, 7564, 7561, 6783, 6770, 6083, ...           5  \n",
      "0  [TEN, NE, 7606, 7564, 7561, 6783, 6770, 6083, ...           5  \n",
      "0  [TEN, NE, 7606, 7564, 7561, 6783, 6770, 6083, ...           5  \n",
      "0  [TEN, NE, 7606, 7564, 7561, 6783, 6770, 6083, ...           5  \n",
      "0  [TEN, NE, 7606, 7564, 7561, 6783, 6770, 6083, ...           5  \n",
      "3  [DAL, 5927, 5859, 5347, 5045, 5038, 4993, 4866...           5  \n",
      "3  [DAL, 5927, 5859, 5347, 5045, 5038, 4993, 4866...           5  \n",
      "3  [DAL, 5927, 5859, 5347, 5045, 5038, 4993, 4866...           5  \n",
      "3  [DAL, 5927, 5859, 5347, 5045, 5038, 4993, 4866...           5  \n",
      "3  [DAL, 5927, 5859, 5347, 5045, 5038, 4993, 4866...           5  \n",
      "3  [DAL, 5927, 5859, 5347, 5045, 5038, 4993, 4866...           5  \n",
      "3  [DAL, 5927, 5859, 5347, 5045, 5038, 4993, 4866...           5  \n",
      "3  [DAL, 5927, 5859, 5347, 5045, 5038, 4993, 4866...           5  \n",
      "3  [DAL, 5927, 5859, 5347, 5045, 5038, 4993, 4866...           5  \n",
      "3  [DAL, 5927, 5859, 5347, 5045, 5038, 4993, 4866...           5  \n",
      "-----------\n"
     ]
    },
    {
     "ename": "TypeError",
     "evalue": "'numpy.float64' object is not iterable",
     "output_type": "error",
     "traceback": [
      "\u001b[1;31m---------------------------------------------------------------------------\u001b[0m",
      "\u001b[1;31mTypeError\u001b[0m                                 Traceback (most recent call last)",
      "\u001b[1;32m~\\AppData\\Local\\Temp/ipykernel_12540/4230945287.py\u001b[0m in \u001b[0;36m<module>\u001b[1;34m\u001b[0m\n\u001b[1;32m----> 1\u001b[1;33m \u001b[0mget_team_data\u001b[0m\u001b[1;33m(\u001b[0m\u001b[0mtest_df\u001b[0m\u001b[1;33m)\u001b[0m\u001b[1;33m\u001b[0m\u001b[1;33m\u001b[0m\u001b[0m\n\u001b[0m\u001b[0;32m      2\u001b[0m \u001b[1;33m\u001b[0m\u001b[0m\n\u001b[0;32m      3\u001b[0m \u001b[1;31m# winners, losers, scores, high, low = get_team_data(test_df)\u001b[0m\u001b[1;33m\u001b[0m\u001b[1;33m\u001b[0m\u001b[1;33m\u001b[0m\u001b[0m\n\u001b[0;32m      4\u001b[0m \u001b[1;31m# print(winners)\u001b[0m\u001b[1;33m\u001b[0m\u001b[1;33m\u001b[0m\u001b[1;33m\u001b[0m\u001b[0m\n\u001b[0;32m      5\u001b[0m \u001b[1;31m# print(losers)\u001b[0m\u001b[1;33m\u001b[0m\u001b[1;33m\u001b[0m\u001b[1;33m\u001b[0m\u001b[0m\n",
      "\u001b[1;32m~\\AppData\\Local\\Temp/ipykernel_12540/1331651458.py\u001b[0m in \u001b[0;36mget_team_data\u001b[1;34m(df)\u001b[0m\n\u001b[0;32m     14\u001b[0m         \u001b[0mprint\u001b[0m\u001b[1;33m(\u001b[0m\u001b[1;34m\"-----------\"\u001b[0m\u001b[1;33m)\u001b[0m\u001b[1;33m\u001b[0m\u001b[1;33m\u001b[0m\u001b[0m\n\u001b[0;32m     15\u001b[0m \u001b[1;33m\u001b[0m\u001b[0m\n\u001b[1;32m---> 16\u001b[1;33m         \u001b[0ma\u001b[0m \u001b[1;33m=\u001b[0m \u001b[1;33m[\u001b[0m\u001b[1;33m(\u001b[0m\u001b[0mx\u001b[0m\u001b[1;33m,\u001b[0m\u001b[0my\u001b[0m\u001b[1;33m)\u001b[0m \u001b[1;32mfor\u001b[0m \u001b[0mx\u001b[0m\u001b[1;33m,\u001b[0m\u001b[0my\u001b[0m \u001b[1;32min\u001b[0m \u001b[0mzip\u001b[0m\u001b[1;33m(\u001b[0m \u001b[0mmatchup_df\u001b[0m\u001b[1;33m[\u001b[0m\u001b[1;34m'roster_id'\u001b[0m\u001b[1;33m]\u001b[0m\u001b[1;33m.\u001b[0m\u001b[0munique\u001b[0m\u001b[1;33m(\u001b[0m\u001b[1;33m)\u001b[0m\u001b[1;33m[\u001b[0m\u001b[1;36m0\u001b[0m\u001b[1;33m]\u001b[0m\u001b[1;33m,\u001b[0m \u001b[0mmatchup_df\u001b[0m\u001b[1;33m[\u001b[0m\u001b[1;34m'points'\u001b[0m\u001b[1;33m]\u001b[0m\u001b[1;33m.\u001b[0m\u001b[0munique\u001b[0m\u001b[1;33m(\u001b[0m\u001b[1;33m)\u001b[0m\u001b[1;33m[\u001b[0m\u001b[1;36m0\u001b[0m\u001b[1;33m]\u001b[0m \u001b[1;33m)\u001b[0m \u001b[1;33m]\u001b[0m\u001b[1;33m[\u001b[0m\u001b[1;36m0\u001b[0m\u001b[1;33m]\u001b[0m\u001b[1;33m\u001b[0m\u001b[1;33m\u001b[0m\u001b[0m\n\u001b[0m\u001b[0;32m     17\u001b[0m         \u001b[0mb\u001b[0m \u001b[1;33m=\u001b[0m \u001b[1;33m[\u001b[0m\u001b[1;33m(\u001b[0m\u001b[0mx\u001b[0m\u001b[1;33m,\u001b[0m\u001b[0my\u001b[0m\u001b[1;33m)\u001b[0m \u001b[1;32mfor\u001b[0m \u001b[0mx\u001b[0m\u001b[1;33m,\u001b[0m\u001b[0my\u001b[0m \u001b[1;32min\u001b[0m \u001b[0mzip\u001b[0m\u001b[1;33m(\u001b[0m \u001b[0mmatchup_df\u001b[0m\u001b[1;33m[\u001b[0m\u001b[1;34m'roster_id'\u001b[0m\u001b[1;33m]\u001b[0m\u001b[1;33m.\u001b[0m\u001b[0munique\u001b[0m\u001b[1;33m(\u001b[0m\u001b[1;33m)\u001b[0m\u001b[1;33m[\u001b[0m\u001b[1;36m1\u001b[0m\u001b[1;33m]\u001b[0m\u001b[1;33m,\u001b[0m \u001b[0mmatchup_df\u001b[0m\u001b[1;33m[\u001b[0m\u001b[1;34m'points'\u001b[0m\u001b[1;33m]\u001b[0m\u001b[1;33m.\u001b[0m\u001b[0munique\u001b[0m\u001b[1;33m(\u001b[0m\u001b[1;33m)\u001b[0m\u001b[1;33m[\u001b[0m\u001b[1;36m1\u001b[0m\u001b[1;33m]\u001b[0m \u001b[1;33m)\u001b[0m \u001b[1;33m]\u001b[0m\u001b[1;33m[\u001b[0m\u001b[1;36m0\u001b[0m\u001b[1;33m]\u001b[0m\u001b[1;33m\u001b[0m\u001b[1;33m\u001b[0m\u001b[0m\n\u001b[0;32m     18\u001b[0m \u001b[1;33m\u001b[0m\u001b[0m\n",
      "\u001b[1;31mTypeError\u001b[0m: 'numpy.float64' object is not iterable"
     ]
    }
   ],
   "source": [
    "get_team_data(test_df)\n",
    "\n",
    "# winners, losers, scores, high, low = get_team_data(test_df)\n",
    "# print(winners)\n",
    "# print(losers)\n",
    "# print(scores)\n",
    "# print(high)\n",
    "# print(low)"
   ]
  },
  {
   "cell_type": "code",
   "execution_count": 82,
   "metadata": {},
   "outputs": [
    {
     "data": {
      "text/plain": [
       "(3, 2429.6)"
      ]
     },
     "execution_count": 82,
     "metadata": {},
     "output_type": "execute_result"
    }
   ],
   "source": [
    "games"
   ]
  },
  {
   "cell_type": "code",
   "execution_count": null,
   "metadata": {},
   "outputs": [],
   "source": []
  },
  {
   "cell_type": "code",
   "execution_count": null,
   "metadata": {},
   "outputs": [],
   "source": []
  },
  {
   "cell_type": "code",
   "execution_count": 31,
   "metadata": {},
   "outputs": [],
   "source": [
    "users = league.get_rosters()"
   ]
  },
  {
   "cell_type": "code",
   "execution_count": null,
   "metadata": {},
   "outputs": [],
   "source": []
  }
 ],
 "metadata": {
  "interpreter": {
   "hash": "25958c21a2683e4b4b536503bcc8909a6707c4f35ea1f7f5a813eab845b6334f"
  },
  "kernelspec": {
   "display_name": "Python 3.8.3 64-bit ('_venv': venv)",
   "name": "python3"
  },
  "language_info": {
   "codemirror_mode": {
    "name": "ipython",
    "version": 3
   },
   "file_extension": ".py",
   "mimetype": "text/x-python",
   "name": "python",
   "nbconvert_exporter": "python",
   "pygments_lexer": "ipython3",
   "version": "3.8.3"
  },
  "orig_nbformat": 4
 },
 "nbformat": 4,
 "nbformat_minor": 2
}
